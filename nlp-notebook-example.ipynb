{
 "cells": [
  {
   "cell_type": "code",
   "execution_count": 2,
   "id": "a3a394b3",
   "metadata": {},
   "outputs": [
    {
     "name": "stderr",
     "output_type": "stream",
     "text": [
      "C:\\Users\\causb1a\\AppData\\Roaming\\Python\\Python36\\site-packages\\pandas\\compat\\_optional.py:124: UserWarning: Pandas requires version '1.2.1' or newer of 'bottleneck' (version '1.2.0' currently installed).\n",
      "  warnings.warn(msg, UserWarning)\n"
     ]
    },
    {
     "name": "stdout",
     "output_type": "stream",
     "text": [
      "[nltk_data] Downloading package stopwords to\n",
      "[nltk_data]     C:\\Users\\causb1a\\AppData\\Roaming\\nltk_data...\n",
      "[nltk_data]   Package stopwords is already up-to-date!\n",
      "[nltk_data] Downloading package wordnet to\n",
      "[nltk_data]     C:\\Users\\causb1a\\AppData\\Roaming\\nltk_data...\n",
      "[nltk_data]   Package wordnet is already up-to-date!\n",
      "[nltk_data] Downloading package punkt to\n",
      "[nltk_data]     C:\\Users\\causb1a\\AppData\\Roaming\\nltk_data...\n",
      "[nltk_data]   Package punkt is already up-to-date!\n"
     ]
    }
   ],
   "source": [
    "import pandas as pd\n",
    "from sklearn.feature_extraction.text import CountVectorizer\n",
    "import numpy as np\n",
    "import re\n",
    "from nltk.stem.wordnet import WordNetLemmatizer\n",
    "from nltk.stem.porter import PorterStemmer\n",
    "import nltk\n",
    "from nltk.stem.wordnet import WordNetLemmatizer\n",
    "from nltk.corpus import stopwords\n",
    "import re\n",
    "nltk.download('stopwords')\n",
    "nltk.download('wordnet')\n",
    "nltk.download('punkt')\n",
    "\n",
    "import warnings\n",
    "warnings.filterwarnings(\"ignore\")"
   ]
  },
  {
   "cell_type": "code",
   "execution_count": 3,
   "id": "850496b9",
   "metadata": {},
   "outputs": [],
   "source": [
    "df = pd.read_csv(\"C:/Users/causb1a/Desktop/smart.csv\")"
   ]
  },
  {
   "cell_type": "code",
   "execution_count": 4,
   "id": "ea3d73b1",
   "metadata": {},
   "outputs": [],
   "source": [
    "def event_label_cleaner(text):\n",
    "        \"\"\"\n",
    "        cleans the search bar column, where customers have searched. This makes it lowercase and gets rid of stop words,\n",
    "        punctuation etc. to get it ready for processing\n",
    "        :param text: the input to be cleaned (string)\n",
    "        :return: returns a cleaned string output via some processing as above stated.\n",
    "        \"\"\"\n",
    "        text = re.sub('[^a-zA-Z]', ' ', str(text))\n",
    "        text = re.sub(\"&lt;/?.*?&gt;\", \" &lt;&gt; \", text)\n",
    "        text = re.sub(\"(\\\\d|\\\\W)+\", \" \", text)\n",
    "        text = text.lower()\n",
    "        text = text.split()\n",
    "        lem = WordNetLemmatizer()\n",
    "        stop_words = set(stopwords.words(\"english\"))\n",
    "        text = [lem.lemmatize(word) for word in text if not word in stop_words]\n",
    "        text = \" \".join(text)\n",
    "        return text\n",
    "\n",
    "def event_label_cleaner_to_df(df):\n",
    "    df['clean'] = df['Interaction '].apply(lambda x: event_label_cleaner(x))\n",
    "    return df"
   ]
  },
  {
   "cell_type": "code",
   "execution_count": 5,
   "id": "128dd875",
   "metadata": {},
   "outputs": [],
   "source": [
    "df = event_label_cleaner_to_df(df)"
   ]
  },
  {
   "cell_type": "code",
   "execution_count": 6,
   "id": "3edc2e5f",
   "metadata": {},
   "outputs": [],
   "source": [
    "def get_n_gram_df(n_gram_min, n_gram_max, df):\n",
    "    \"\"\"\n",
    "    This function creates a dataframe that counts the number of words that exist. n_gram means number of words in\n",
    "    combination, for example a bigram means a phrase of 2 words. This function counts how many times that phrase for\n",
    "    example exists in the specified column of the dataframe. In this case, the clean column after the df has been\n",
    "    cleaned\n",
    "    :param n_gram: An integer number of n_gram\n",
    "    :param call_no_call_df: dataframe with the column search bar to count\n",
    "    :return: returns a dataframe with a count of each word/phrase\n",
    "    \"\"\"\n",
    "    if df['clean'].empty:\n",
    "        return pd.DataFrame(columns = ['counts', 'name'])\n",
    "    vectorizer = CountVectorizer(ngram_range=(n_gram_min, n_gram_max))\n",
    "    matrix = vectorizer.fit_transform(df.clean)\n",
    "    words = list(vectorizer.get_feature_names())\n",
    "    sum_counts = matrix.toarray().sum(axis=0)\n",
    "    return pd.DataFrame(data={'counts': sum_counts, 'name': words}).sort_values(by='counts', ascending=False)"
   ]
  },
  {
   "cell_type": "code",
   "execution_count": 7,
   "id": "6b0558cd",
   "metadata": {},
   "outputs": [
    {
     "data": {
      "text/html": [
       "<div>\n",
       "<style scoped>\n",
       "    .dataframe tbody tr th:only-of-type {\n",
       "        vertical-align: middle;\n",
       "    }\n",
       "\n",
       "    .dataframe tbody tr th {\n",
       "        vertical-align: top;\n",
       "    }\n",
       "\n",
       "    .dataframe thead th {\n",
       "        text-align: right;\n",
       "    }\n",
       "</style>\n",
       "<table border=\"1\" class=\"dataframe\">\n",
       "  <thead>\n",
       "    <tr style=\"text-align: right;\">\n",
       "      <th></th>\n",
       "      <th>counts</th>\n",
       "      <th>name</th>\n",
       "    </tr>\n",
       "  </thead>\n",
       "  <tbody>\n",
       "    <tr>\n",
       "      <th>7880</th>\n",
       "      <td>658</td>\n",
       "      <td>ihd</td>\n",
       "    </tr>\n",
       "    <tr>\n",
       "      <th>4206</th>\n",
       "      <td>570</td>\n",
       "      <td>customer</td>\n",
       "    </tr>\n",
       "    <tr>\n",
       "      <th>2435</th>\n",
       "      <td>465</td>\n",
       "      <td>call</td>\n",
       "    </tr>\n",
       "    <tr>\n",
       "      <th>9779</th>\n",
       "      <td>422</td>\n",
       "      <td>meter</td>\n",
       "    </tr>\n",
       "    <tr>\n",
       "      <th>1450</th>\n",
       "      <td>389</td>\n",
       "      <td>apr</td>\n",
       "    </tr>\n",
       "    <tr>\n",
       "      <th>...</th>\n",
       "      <td>...</td>\n",
       "      <td>...</td>\n",
       "    </tr>\n",
       "    <tr>\n",
       "      <th>7041</th>\n",
       "      <td>1</td>\n",
       "      <td>go ahead</td>\n",
       "    </tr>\n",
       "    <tr>\n",
       "      <th>7042</th>\n",
       "      <td>1</td>\n",
       "      <td>go back</td>\n",
       "    </tr>\n",
       "    <tr>\n",
       "      <th>7043</th>\n",
       "      <td>1</td>\n",
       "      <td>go fixing</td>\n",
       "    </tr>\n",
       "    <tr>\n",
       "      <th>7044</th>\n",
       "      <td>1</td>\n",
       "      <td>go high</td>\n",
       "    </tr>\n",
       "    <tr>\n",
       "      <th>18494</th>\n",
       "      <td>1</td>\n",
       "      <td>zip codew</td>\n",
       "    </tr>\n",
       "  </tbody>\n",
       "</table>\n",
       "<p>18495 rows × 2 columns</p>\n",
       "</div>"
      ],
      "text/plain": [
       "       counts       name\n",
       "7880      658        ihd\n",
       "4206      570   customer\n",
       "2435      465       call\n",
       "9779      422      meter\n",
       "1450      389        apr\n",
       "...       ...        ...\n",
       "7041        1   go ahead\n",
       "7042        1    go back\n",
       "7043        1  go fixing\n",
       "7044        1    go high\n",
       "18494       1  zip codew\n",
       "\n",
       "[18495 rows x 2 columns]"
      ]
     },
     "execution_count": 7,
     "metadata": {},
     "output_type": "execute_result"
    }
   ],
   "source": [
    "get_n_gram_df(1, 2, df)"
   ]
  },
  {
   "cell_type": "code",
   "execution_count": null,
   "id": "974c5187",
   "metadata": {},
   "outputs": [],
   "source": []
  }
 ],
 "metadata": {
  "kernelspec": {
   "display_name": "Python 3",
   "language": "python",
   "name": "python3"
  },
  "language_info": {
   "codemirror_mode": {
    "name": "ipython",
    "version": 3
   },
   "file_extension": ".py",
   "mimetype": "text/x-python",
   "name": "python",
   "nbconvert_exporter": "python",
   "pygments_lexer": "ipython3",
   "version": "3.6.11"
  }
 },
 "nbformat": 4,
 "nbformat_minor": 5
}
